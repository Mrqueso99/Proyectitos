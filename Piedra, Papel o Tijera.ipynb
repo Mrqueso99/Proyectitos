{
 "cells": [
  {
   "cell_type": "code",
   "execution_count": 1,
   "metadata": {},
   "outputs": [],
   "source": [
    "import random"
   ]
  },
  {
   "cell_type": "code",
   "execution_count": 2,
   "metadata": {},
   "outputs": [
    {
     "name": "stdout",
     "output_type": "stream",
     "text": [
      "piedra, papel o tijera tijera\n",
      "Es un empate\n",
      "Jugador:tijera\n",
      "Computadora:tijera\n"
     ]
    }
   ],
   "source": [
    "def juego(eleccion1, eleccion2):\n",
    "    if eleccion1 == eleccion2:\n",
    "        print(\"Es un empate\")\n",
    "    elif eleccion1 == \"piedra\":\n",
    "        if eleccion2 == \"papel\":\n",
    "            print(\"Perdiste\")\n",
    "        else:\n",
    "            print(\"Ganaste!\")\n",
    "    elif eleccion1 == \"tijera\":\n",
    "        if eleccion2 == \"piedra\":\n",
    "            print(\"Perdiste!\")\n",
    "        else:\n",
    "            print(\"Ganaste!\")\n",
    "    elif eleccion1 == \"papel\":\n",
    "        if eleccion2 == \"tijera\":\n",
    "            print(\"Perdiste!\")\n",
    "        else:\n",
    "            print(\"Ganaste!\")        \n",
    "        \n",
    "jugador1 = str(input(\"piedra, papel o tijera\" + \" \"))\n",
    "ai = [\"piedra\", \"papel\", \"tijera\"]\n",
    "n = random.randint(0,2)\n",
    "jugada = ai[n]\n",
    "if  jugador1 == \"piedra\" or jugador1 == \"papel\" or jugador1 == \"tijera\":\n",
    "    \n",
    "    ai = [\"piedra\", \"papel\", \"tijera\"]\n",
    "    n = random.randint(0,2)\n",
    "    jugada = ai[n]\n",
    "    juego(jugador1, jugada)\n",
    "    print(\"Jugador:\" + jugador1 )\n",
    "    print(\"Computadora:\" + jugada)\n",
    "else:\n",
    "\n",
    "    print(\"Entrada inválida\")\n",
    "              \n",
    "\n"
   ]
  },
  {
   "cell_type": "code",
   "execution_count": null,
   "metadata": {},
   "outputs": [],
   "source": []
  }
 ],
 "metadata": {
  "kernelspec": {
   "display_name": "Python 3",
   "language": "python",
   "name": "python3"
  },
  "language_info": {
   "codemirror_mode": {
    "name": "ipython",
    "version": 3
   },
   "file_extension": ".py",
   "mimetype": "text/x-python",
   "name": "python",
   "nbconvert_exporter": "python",
   "pygments_lexer": "ipython3",
   "version": "3.7.6"
  }
 },
 "nbformat": 4,
 "nbformat_minor": 4
}
