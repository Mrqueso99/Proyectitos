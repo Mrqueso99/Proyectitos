{
 "cells": [
  {
   "cell_type": "markdown",
   "metadata": {},
   "source": [
    "# <center> Experimento del Gap en diodos de silicio y germanio </center>\n",
    "   "
   ]
  },
  {
   "cell_type": "markdown",
   "metadata": {},
   "source": [
    "#### El objetivo de este notebook es presentar el paso a paso del análisis de datos para calcular el gap de energía de la información obtenido a tráves de multisim. \n",
    "\n",
    "#### Una vez realizado el barrido de temperatura uno importará los datos obtenidos de temperatura y voltaje. Para facilitar el análisis se eliminó, directamente en el archivo, los carácteres que no corresponden al valor de la temperatura. "
   ]
  },
  {
   "cell_type": "markdown",
   "metadata": {},
   "source": [
    "#### A continuación importamos las librerías necesarias con la cuales trabajaremos"
   ]
  },
  {
   "cell_type": "code",
   "execution_count": 2,
   "metadata": {},
   "outputs": [],
   "source": [
    "import matplotlib.pyplot as plt  # librería para graficar\n",
    "import numpy as np               # librería para vectorizar y analizar datos\n",
    "import pandas as pd              # librería para manipular datos \n",
    "from scipy import optimize       # librería para ajustar curvas a serie de datos"
   ]
  },
  {
   "cell_type": "markdown",
   "metadata": {},
   "source": [
    "#### A continuación importamos los archivos con los cuales trabajaremos. En este caso utilizamos el método read_excel de pandas, este método solo es válido para archivos \"xlsx\". Si cuenta con un archivo de excel diferentes como lo es .csv, uno tendrá que utilizar pd.read_csv( ). Dentro de los parántesis se escribirá el nombre del archivo, muy importante, entre comillas."
   ]
  },
  {
   "cell_type": "code",
   "execution_count": 3,
   "metadata": {},
   "outputs": [],
   "source": [
    "data = pd.read_excel(\"temperatura.xlsx\") # Importamos nuestros archivos de excel\n",
    "data2 = pd.read_excel(\"silicio.xlsx\")"
   ]
  },
  {
   "cell_type": "markdown",
   "metadata": {},
   "source": [
    "#### En la siguiente celda utilizamos rename para renombrar, en este caso, el nombre de nuestras columnas . Muy importante dejar inplace=True para guardar los cambios en el cuadro."
   ]
  },
  {
   "cell_type": "code",
   "execution_count": 4,
   "metadata": {
    "scrolled": false
   },
   "outputs": [],
   "source": [
    "data.rename(columns={\"Variable, Temperature setting\": \"Temperatura\" , \"Operating point value\":\"Voltaje\" }, inplace = True)\n",
    "data2.rename(columns={\"Variable, Temperature setting\": \"Temperatura\" , \"Operating point value\":\"Voltaje\" }, inplace = True)"
   ]
  },
  {
   "cell_type": "markdown",
   "metadata": {},
   "source": [
    "#### Mostramos los primeros 5 datos de nuestro cuadro con el método head() podemos mostrar los últimos 5 con el método tail(). Si queremos ver los primero o últimos \"n\" datos podemos utilizar head(n), tail(n)"
   ]
  },
  {
   "cell_type": "code",
   "execution_count": 5,
   "metadata": {
    "scrolled": true
   },
   "outputs": [
    {
     "data": {
      "text/html": [
       "<div>\n",
       "<style scoped>\n",
       "    .dataframe tbody tr th:only-of-type {\n",
       "        vertical-align: middle;\n",
       "    }\n",
       "\n",
       "    .dataframe tbody tr th {\n",
       "        vertical-align: top;\n",
       "    }\n",
       "\n",
       "    .dataframe thead th {\n",
       "        text-align: right;\n",
       "    }\n",
       "</style>\n",
       "<table border=\"1\" class=\"dataframe\">\n",
       "  <thead>\n",
       "    <tr style=\"text-align: right;\">\n",
       "      <th></th>\n",
       "      <th>Temperatura</th>\n",
       "      <th>Voltaje</th>\n",
       "    </tr>\n",
       "  </thead>\n",
       "  <tbody>\n",
       "    <tr>\n",
       "      <th>0</th>\n",
       "      <td>0</td>\n",
       "      <td>0.444505</td>\n",
       "    </tr>\n",
       "    <tr>\n",
       "      <th>1</th>\n",
       "      <td>1</td>\n",
       "      <td>0.441809</td>\n",
       "    </tr>\n",
       "    <tr>\n",
       "      <th>2</th>\n",
       "      <td>2</td>\n",
       "      <td>0.439113</td>\n",
       "    </tr>\n",
       "    <tr>\n",
       "      <th>3</th>\n",
       "      <td>3</td>\n",
       "      <td>0.436416</td>\n",
       "    </tr>\n",
       "    <tr>\n",
       "      <th>4</th>\n",
       "      <td>4</td>\n",
       "      <td>0.433719</td>\n",
       "    </tr>\n",
       "  </tbody>\n",
       "</table>\n",
       "</div>"
      ],
      "text/plain": [
       "   Temperatura   Voltaje\n",
       "0            0  0.444505\n",
       "1            1  0.441809\n",
       "2            2  0.439113\n",
       "3            3  0.436416\n",
       "4            4  0.433719"
      ]
     },
     "execution_count": 5,
     "metadata": {},
     "output_type": "execute_result"
    }
   ],
   "source": [
    "data.head()"
   ]
  },
  {
   "cell_type": "markdown",
   "metadata": {},
   "source": [
    "# 1N4148"
   ]
  },
  {
   "cell_type": "markdown",
   "metadata": {},
   "source": [
    "#### En la siguiente celda se eliminan aquellos datos que no representan el comportamiento lineal. Además eliminaremos los datos para temperaturas pares, esto para no toner un sobre ajuste de la recta."
   ]
  },
  {
   "cell_type": "code",
   "execution_count": 6,
   "metadata": {},
   "outputs": [],
   "source": [
    "for i in range(85,101) :     \n",
    "        data.drop([i], inplace = True)\n",
    "        \n",
    "for i in range(0,85):\n",
    "    if i%2 != 0:\n",
    "        data.drop([i], inplace = True)"
   ]
  },
  {
   "cell_type": "markdown",
   "metadata": {},
   "source": [
    "#### Con plt.scatter crearemos un gráfico de dispersión. En este caso necesitamos especificar los datos que se tomarán para \"x\" y \"y\". Además utilizaremos marker para especificar la forma de los puntos. Por otro lado plt.xlabel y plt.ylabel son utilizados para nombrar los ejes."
   ]
  },
  {
   "cell_type": "code",
   "execution_count": 7,
   "metadata": {},
   "outputs": [
    {
     "data": {
      "text/plain": [
       "Text(0, 0.5, 'Temperature en C ° ')"
      ]
     },
     "execution_count": 7,
     "metadata": {},
     "output_type": "execute_result"
    },
    {
     "data": {
      "image/png": "[encoded data removed]",
      "text/plain": [
       "<Figure size 432x288 with 1 Axes>"
      ]
     },
     "metadata": {
      "needs_background": "light"
     },
     "output_type": "display_data"
    }
   ],
   "source": [
    "plt.scatter(x = data['Voltaje'], y = data['Temperatura'], marker = '^')\n",
    "plt.xlabel('Voltage en V')\n",
    "plt.ylabel('Temperature en C \\N{DEGREE SIGN} ')"
   ]
  },
  {
   "cell_type": "markdown",
   "metadata": {},
   "source": [
    "####  Para facilitar el ajuste de la recta diviremos nuestros datos en dos x_data que contendra el voltaje y y_data que contendrá los datos de temperatura "
   ]
  },
  {
   "cell_type": "code",
   "execution_count": 8,
   "metadata": {},
   "outputs": [],
   "source": [
    "x_data = data['Voltaje']\n",
    "y_data = data['Temperatura']"
   ]
  },
  {
   "cell_type": "markdown",
   "metadata": {},
   "source": [
    "#### Definimos una función que contendrá los parámetros  a, t, b los cuales serán arreglados para formar una recta. El párametro a representará la pendiente y b la ordenada al origen"
   ]
  },
  {
   "cell_type": "code",
   "execution_count": 9,
   "metadata": {},
   "outputs": [],
   "source": [
    "def f(t, a, b):\n",
    "    return a*t + b"
   ]
  },
  {
   "cell_type": "markdown",
   "metadata": {},
   "source": [
    "#### Utilzamos en método optimize.curve_fit para encontrar los parámetros que se ajustan a nuestros datos.  Para utilizar esté método neceistamos 3 parámetros f que será la función a ajustar, los datos del eje x y los datos del eje y.  Params es un vector contendrá los parámetros a, b del ajuste. params_cov nos dará los datos de la matriz de covarianza.  "
   ]
  },
  {
   "cell_type": "code",
   "execution_count": 11,
   "metadata": {},
   "outputs": [
    {
     "name": "stdout",
     "output_type": "stream",
     "text": [
      "-384.71996605105863 , 170.03183636357983\n"
     ]
    }
   ],
   "source": [
    "#Ajustamos nuestra recta y encontramos los parámetros a(pendiente) y b(ordenada al origen)\n",
    "\n",
    "params, params_cov= optimize.curve_fit(f, x_data, y_data)\n",
    "a = params[0]\n",
    "b = params[1]\n",
    "\n",
    "print(a, \",\" ,b)"
   ]
  },
  {
   "cell_type": "markdown",
   "metadata": {},
   "source": [
    "#### Creamos una nueva gráfica, además de contar con el gráfico de dispersión tendremos la curva que ajustamos. Dicha curva será graficada con plt.plot, el cual contiene los datos \"x\" y \"y\", en este caso  \"y\" es el conjunto de datos tales que se les aplica la función $f(x) = -384.72x + 170 $\n",
    "\n",
    "#### Igualmente utilizamos xlabel y ylabel para nombrar nuestros ejes, annotate para especificar a que gráfica corresponde en este caso \"Diodo de silicio 1N4148\". Con la opción plt.savefig(\"Silicio\") exportamos la imagen en formato pgn y tendré el nombre Silicio.png"
   ]
  },
  {
   "cell_type": "code",
   "execution_count": 10,
   "metadata": {},
   "outputs": [
    {
     "data": {
      "image/png": "[encoded data removed]",
      "text/plain": [
       "<Figure size 432x288 with 1 Axes>"
      ]
     },
     "metadata": {
      "needs_background": "light"
     },
     "output_type": "display_data"
    }
   ],
   "source": [
    "plt.scatter(x_data, y_data, label='Datos' ,color = 'black', marker = '^')\n",
    "plt.plot(x_data, f(x_data, a, b), label='Ajuste',  color = 'red' )\n",
    "plt.annotate(r'$T_c =-384.7x+170.0$', (0.370, 40))\n",
    "plt.xlabel('Voltage en V')\n",
    "plt.ylabel('Temperature en C \\N{DEGREE SIGN}')\n",
    "plt.annotate(r'Diodo de silicio 1N4148', (0.26, 10))\n",
    "plt.legend(loc='best')\n",
    "plt.savefig('Silicio')"
   ]
  },
  {
   "cell_type": "markdown",
   "metadata": {},
   "source": [
    "#### Realizamos el cálculo del gap de energía "
   ]
  },
  {
   "cell_type": "code",
   "execution_count": 11,
   "metadata": {},
   "outputs": [
    {
     "name": "stdout",
     "output_type": "stream",
     "text": [
      "Gap de energía : 1.151959543229847\n"
     ]
    }
   ],
   "source": [
    "# Realizamos operación para encontrar el gap de energía\n",
    "\n",
    "E_g = -(b + 273.15)/a\n",
    "print('Gap de energía :', E_g)"
   ]
  },
  {
   "cell_type": "markdown",
   "metadata": {},
   "source": [
    "# AA112"
   ]
  },
  {
   "cell_type": "markdown",
   "metadata": {},
   "source": [
    "#### En la siguiente celda se eliminan aquellos datos que no representan el comportamiento lineal. Además eliminaremos los datos para temperaturas pares, esto para no toner un sobre ajuste de la recta."
   ]
  },
  {
   "cell_type": "code",
   "execution_count": 12,
   "metadata": {},
   "outputs": [],
   "source": [
    "for i in range(47,101) :     \n",
    "        data2.drop([i], inplace = True)\n",
    "        \n",
    "        \n",
    "for i in range(0,46):\n",
    "    if i%2 != 0:\n",
    "        data2.drop([i], inplace = True)"
   ]
  },
  {
   "cell_type": "markdown",
   "metadata": {},
   "source": [
    "#### En la siguiente celda se eliminan aquellos datos que no representan el comportamiento lineal. Además eliminaremos los datos para temperaturas pares, esto para no toner un sobre ajuste de la recta."
   ]
  },
  {
   "cell_type": "code",
   "execution_count": 13,
   "metadata": {},
   "outputs": [
    {
     "data": {
      "image/png": "[encoded data removed]",
      "text/plain": [
       "<Figure size 432x288 with 1 Axes>"
      ]
     },
     "metadata": {
      "needs_background": "light"
     },
     "output_type": "display_data"
    }
   ],
   "source": [
    "plt.scatter(x = data2['Voltaje'], y = data2['Temperatura'], marker = '^')\n",
    "plt.xlabel('Voltage en V')\n",
    "plt.ylabel('Temperature en C \\N{DEGREE SIGN} ')\n",
    "plt.savefig('Grafica')"
   ]
  },
  {
   "cell_type": "markdown",
   "metadata": {},
   "source": [
    "####  Para facilitar el ajuste de la recta diviremos nuestros datos en dos x_data que contendra el voltaje y y_data que contendrá los datos de temperatura "
   ]
  },
  {
   "cell_type": "code",
   "execution_count": 14,
   "metadata": {},
   "outputs": [],
   "source": [
    "x_data2 = data2['Voltaje']\n",
    "y_data2 = data2['Temperatura']"
   ]
  },
  {
   "cell_type": "markdown",
   "metadata": {},
   "source": [
    "#### Utilzamos en método optimize.curve_fit para encontrar los parámetros que se ajustan a nuestros datos.  Para utilizar esté método neceistamos 3 parámetros f que será la función a ajustar, los datos del eje x y los datos del eje y.  Params es un vector contendrá los parámetros a, b del ajuste. params_cov nos dará los datos de la matriz de covarianza."
   ]
  },
  {
   "cell_type": "code",
   "execution_count": 15,
   "metadata": {},
   "outputs": [
    {
     "name": "stdout",
     "output_type": "stream",
     "text": [
      "-505.80289894871765 , 62.38726205124148\n"
     ]
    }
   ],
   "source": [
    "params2, params_cov2= optimize.curve_fit(f, x_data2, y_data2)\n",
    "a_2 = params2[0]\n",
    "b_2 = params2[1]\n",
    "\n",
    "print(a_2, \",\" ,b_2)"
   ]
  },
  {
   "cell_type": "markdown",
   "metadata": {},
   "source": [
    "#### Creamos una nueva gráfica, además de contar con el gráfico de dispersión tendremos la curva que ajustamos. Dicha curva será graficada con plt.plot, el cual contiene los datos \"x\" y \"y\", en este caso  \"y\" es el conjunto de datos tales que se les aplica la función $f(x) = -505.80x + 62.39 $\n",
    "\n",
    "#### Igualmente utilizamos xlabel y ylabel para nombrar nuestros ejes, annotate para especificar a que gráfica corresponde en este caso \"Diodo de silicio AA112\". Con la opción plt.savefig(\"germiano\") exportamos la imagen en formato pgn y tendré el nombre Silicio.png"
   ]
  },
  {
   "cell_type": "code",
   "execution_count": 16,
   "metadata": {},
   "outputs": [
    {
     "data": {
      "image/png": "[encoded data removed]",
      "text/plain": [
       "<Figure size 432x288 with 1 Axes>"
      ]
     },
     "metadata": {
      "needs_background": "light"
     },
     "output_type": "display_data"
    }
   ],
   "source": [
    "plt.scatter(x_data2, y_data2, label='Datos' ,color = 'black', marker = '^')\n",
    "plt.plot(x_data2, f(x_data2, a_2, b_2), label='Ajuste',  color = 'red' )\n",
    "plt.annotate(r'$T_c =-505.8 + 62.4$', (0.09, 30))\n",
    "plt.annotate(r'Diodo de germanio AA112', (0.04, 5))\n",
    "plt.xlabel('Voltage en V')\n",
    "plt.ylabel('Temperature en C \\N{DEGREE SIGN} ')\n",
    "plt.legend(loc='best')\n",
    "plt.savefig('germanio')\n"
   ]
  },
  {
   "cell_type": "markdown",
   "metadata": {},
   "source": [
    "#### Realizamos el cálculo del gap de energía "
   ]
  },
  {
   "cell_type": "code",
   "execution_count": 17,
   "metadata": {},
   "outputs": [
    {
     "name": "stdout",
     "output_type": "stream",
     "text": [
      "Gap de energía : 0.663375521865605\n"
     ]
    }
   ],
   "source": [
    "E_g2 = -(b_2 + 273.15)/a_2\n",
    "print('Gap de energía :', E_g2)"
   ]
  }
 ],
 "metadata": {
  "kernelspec": {
   "display_name": "Python 3",
   "language": "python",
   "name": "python3"
  },
  "language_info": {
   "codemirror_mode": {
    "name": "ipython",
    "version": 3
   },
   "file_extension": ".py",
   "mimetype": "text/x-python",
   "name": "python",
   "nbconvert_exporter": "python",
   "pygments_lexer": "ipython3",
   "version": "3.7.6"
  }
 },
 "nbformat": 4,
 "nbformat_minor": 4
}
