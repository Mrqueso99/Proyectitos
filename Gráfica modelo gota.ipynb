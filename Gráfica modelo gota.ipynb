{
 "cells": [
  {
   "cell_type": "code",
   "execution_count": 1,
   "metadata": {},
   "outputs": [],
   "source": [
    "import numpy as np\n",
    "import matplotlib.pyplot as plt\n",
    "import sympy\n",
    "import math\n",
    "import scipy.cluster\n",
    "from scipy.interpolate import make_interp_spline, BSpline\n",
    "from scipy.interpolate import interp1d\n",
    "\n"
   ]
  },
  {
   "cell_type": "code",
   "execution_count": 2,
   "metadata": {},
   "outputs": [],
   "source": [
    "#Definimos función para calcular energía de enlace con modelo de gota\n",
    "\n",
    "def Ener(A,Z):\n",
    "    a1 = 15.5 #MeV\n",
    "    a2 = 16.8 #MeV\n",
    "    a3 = 0.72 #MeV\n",
    "    a4 = 23.3 #MeV\n",
    "    a5 = 34.0 #MeV\n",
    "    N = A-Z\n",
    "    term = a5*A**(-3/4)\n",
    "    \n",
    "    be = -a1*A + a2*A**(2/3) + a3*(Z**2)/A**(1/3) + a4*(((N-Z)**2)/A)\n",
    "    \n",
    "    if (A % 2) == 0 and (Z % 2) == 0:\n",
    "        return (be - term)\n",
    "        \n",
    "    elif (A % 2) == 1 and (Z % 2) == 1 :\n",
    "        return (be + term)\n",
    "        \n",
    "    else:\n",
    "        return (be)"
   ]
  },
  {
   "cell_type": "code",
   "execution_count": 19,
   "metadata": {
    "scrolled": true
   },
   "outputs": [],
   "source": [
    "#definimos listas par e impar las cuales serán llenadas dependiendo de el valor Z\n",
    "\n",
    "par = []\n",
    "impar = []\n",
    "\n",
    "for i in range(53,61):\n",
    "    if (i % 2 ) == 0:\n",
    "        par.append(Ener(136,i))\n",
    "    else:\n",
    "        impar.append(Ener(136,i))\n",
    "    "
   ]
  },
  {
   "cell_type": "code",
   "execution_count": 60,
   "metadata": {
    "scrolled": true
   },
   "outputs": [
    {
     "data": {
      "text/plain": [
       "Text(0, 0.5, 'Binding Energy (MeV)')"
      ]
     },
     "execution_count": 60,
     "metadata": {},
     "output_type": "execute_result"
    },
    {
     "data": {
      "image/png": "[encoded data removed]",
      "text/plain": [
       "<Figure size 432x288 with 1 Axes>"
      ]
     },
     "metadata": {
      "needs_background": "light"
     },
     "output_type": "display_data"
    }
   ],
   "source": [
    "#graficamos \n",
    "\n",
    "x1 = np.array([53,55,57,59])\n",
    "x2 = np.array([54,56,58,60])\n",
    "y1 =  np.array(impar)\n",
    "y2 = np.array(par)\n",
    "\n",
    "x1_new = np.linspace(x1.min(), x1.max(), 300)\n",
    "f = interp1d(x1, y1, kind='quadratic')\n",
    "y_smooth=f(x1_new)\n",
    "\n",
    "x2_new = np.linspace(x2.min(), x2.max(), 300)\n",
    "f2 = interp1d(x2, y2, kind='quadratic')\n",
    "y_smooth2=f2(x2_new)\n",
    "\n",
    "\n",
    "plt.figure()\n",
    "plt.plot(x2_new,y_smooth2,'b')\n",
    "plt.plot(x1_new,y_smooth, 'r')\n",
    "plt.xlabel(\"Z\")\n",
    "plt.plot(53,-1116.234281781660, 'ko')\n",
    "plt.plot(55,-1124.369023777232, 'ko')\n",
    "plt.plot(57,-1125.901348809676, 'ko')\n",
    "plt.plot(54,-1121.9806931424243, 'ko')\n",
    "plt.plot(56,-1126.8142266564319, 'ko')\n",
    "plt.plot(58,-1125.0453432073127, 'ko')\n",
    "plt.grid()\n",
    "plt.annotate('I',(53,-1117))\n",
    "plt.annotate('Cs',(55,-1123.9)) \n",
    "plt.annotate('La',(57,-1125.5)) \n",
    "plt.annotate('Xe',(54,-1123))\n",
    "plt.annotate('Ba',(56,-1126.5)) \n",
    "plt.annotate('Ce',(58,-1125.5)) \n",
    "\n",
    "plt.ylabel(\"Binding Energy\" + \" \" + \"(MeV)\")"
   ]
  },
  {
   "cell_type": "code",
   "execution_count": null,
   "metadata": {},
   "outputs": [],
   "source": []
  }
 ],
 "metadata": {
  "kernelspec": {
   "display_name": "Python 3",
   "language": "python",
   "name": "python3"
  },
  "language_info": {
   "codemirror_mode": {
    "name": "ipython",
    "version": 3
   },
   "file_extension": ".py",
   "mimetype": "text/x-python",
   "name": "python",
   "nbconvert_exporter": "python",
   "pygments_lexer": "ipython3",
   "version": "3.7.6"
  }
 },
 "nbformat": 4,
 "nbformat_minor": 4
}
